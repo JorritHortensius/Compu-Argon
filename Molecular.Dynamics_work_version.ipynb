{
 "cells": [
  {
   "cell_type": "markdown",
   "metadata": {},
   "source": [
    "# Molecular Dynamics Simulation for Argon"
   ]
  },
  {
   "cell_type": "markdown",
   "metadata": {},
   "source": [
    "In this project we want to simulate an Argon gas. First, we initalize the system consisting of N atoms. Then, we will calculate the interactions (forces) between the particles for succesive timesteps to simulate the behaviour of the gas in time. \n",
    "The second part the code is dedicated to extract physical quantities from the data we can produce."
   ]
  },
  {
   "cell_type": "code",
   "execution_count": 1,
   "metadata": {
    "collapsed": false
   },
   "outputs": [],
   "source": [
    "import numpy as np\n",
    "import cProfile\n",
    "import profile\n",
    "%matplotlib inline\n",
    "import matplotlib.pyplot as plt\n",
    "from mpl_toolkits.mplot3d import Axes3D\n",
    "from numba import jit\n",
    "import json"
   ]
  },
  {
   "cell_type": "code",
   "execution_count": 2,
   "metadata": {
    "collapsed": false
   },
   "outputs": [],
   "source": [
    "#This block is needed to create homogeneous plots throughout the project\n",
    "fparams = {'axes.labelsize': 22,\n",
    "           'axes.titlesize': 25,\n",
    "           'axes.linewidth': 1.5,\n",
    "           'font.size': 16,\n",
    "           'legend.fontsize': 20,\n",
    "           'font.family': 'serif',\n",
    "           'font.serif': 'Computer Modern Roman',\n",
    "           'xtick.labelsize': 15,\n",
    "           'xtick.major.size': 5.5,\n",
    "           'xtick.major.width': 1.5,\n",
    "           'ytick.labelsize': 15,\n",
    "           'ytick.major.size': 5.5,\n",
    "           'ytick.major.width': 1.5,\n",
    "           'text.usetex': True,\n",
    "           'figure.autolayout': True}\n",
    "plt.rcParams.update(fparams)"
   ]
  },
  {
   "cell_type": "markdown",
   "metadata": {},
   "source": [
    "Assign values to parameters (we use natural units):"
   ]
  },
  {
   "cell_type": "code",
   "execution_count": 3,
   "metadata": {
    "collapsed": false
   },
   "outputs": [],
   "source": [
    "kb = 1            # Natural Unit\n",
    "T = 1             # Unit: epsilon/kb (120)\n",
    "eps = 1           # Natural unit of energy, depth of the potential well\n",
    "sig = 1           # Natural unit of length, width of the potential well\n",
    "mass = 1          # Natural unit of mass,   mass of of argon atom\n",
    "rmin=sig*2**(2/3) #length unit cell s.t. atoms are in minima of LJ potential\n",
    "\n",
    "a = rmin*1.2              # Set length unit cell\n",
    "r_cutoff = (sig*3)        # cutoff distance in force calculation\n",
    "r_cutoff2 = r_cutoff**2   # squared cutoff distance\n",
    "\n",
    "def set_num_particle(unit_cell_per_direction,a):\n",
    "    \"\"\"Set number of unit cells, and in doing so, the number of particles\"\"\"\n",
    "    m= unit_cell_per_direction\n",
    "    L=m*a                      # size of system\n",
    "    Nunit=m**3                 # number of unit cells\n",
    "    N=4*Nunit                  # number of atoms\n",
    "    return m, N, L\n",
    "\n",
    "def set_density(density):\n",
    "    a = rmin*density**(-1/3)\n",
    "    return a\n",
    "\n",
    "dt=.004         #In natural units\n",
    "tsteps = 2000   "
   ]
  },
  {
   "cell_type": "markdown",
   "metadata": {},
   "source": [
    "## Initialization"
   ]
  },
  {
   "cell_type": "markdown",
   "metadata": {},
   "source": [
    "### Initial Velocities"
   ]
  },
  {
   "cell_type": "markdown",
   "metadata": {},
   "source": [
    "Let us now write a function to initialize the velocities. The velocity matrix v has 3 x N components. Each particle has three components: the first one is in the x direction, the second in y and the third in z. \n",
    "First we draw the velocities according to the Maxwell-Boltzmann distribution: a Gaussian distribution in each direction. Then we make sure that the total momentum (and thus velocity) in each direction in zero, by substracting the average velocity in each direction. Then we rescale the velocity such that we satisfy the equipartition theorem."
   ]
  },
  {
   "cell_type": "code",
   "execution_count": 4,
   "metadata": {
    "collapsed": false
   },
   "outputs": [],
   "source": [
    "def initialize_velocity(N,T):\n",
    "    #We draw 3N velocity components from Gaussian Distribution\n",
    "    v = np.random.normal(0,(T)**(1/2),(3,N))\n",
    "\n",
    "    #The average velocity is substracted so that the total momentum is zero in each direction.\n",
    "    v += -np.transpose(np.ones((N,1))*np.sum(v,1)/N)\n",
    "\n",
    "    #We now rescale velocity\n",
    "    v = v*(np.sum(v*v)/(3*(N-1)*T))**(-1/2)\n",
    "    return v"
   ]
  },
  {
   "cell_type": "markdown",
   "metadata": {},
   "source": [
    "### Initial positions"
   ]
  },
  {
   "cell_type": "markdown",
   "metadata": {},
   "source": [
    "Now we write a function to initialize the positions of all the particles. The position vector x is also a (3,N) matrix. We start with a FCC lattice, where atoms are located at (0,0,0), (0,a/2,a/2), (a/2,a/2,0) and (a/2,0,a/2).\n",
    "As we have m unit cells in each direction, we concatenate m x m x m unit cells."
   ]
  },
  {
   "cell_type": "code",
   "execution_count": 5,
   "metadata": {
    "collapsed": true
   },
   "outputs": [],
   "source": [
    "def initialize_position(N,a):\n",
    "    \"\"\"Given the number of Atoms N, and the lattice size a, this function returns\n",
    "    initial positions in FCC latice\"\"\"\n",
    "    pos = np.zeros((3,N))\n",
    "    p=0\n",
    "    for i in range(m):\n",
    "        for j in range(m):\n",
    "            for k in range(m):\n",
    "                pos[:,p] += [i*a, j*a, k*a]\n",
    "                pos[:,p+1] = [i*a+a/2, j*a + a/2, k*a]\n",
    "                pos[:,p+2] = [i*a, j*a + a/2, k*a + a/2]\n",
    "                pos[:,p+3] = [i*a + a/2, j*a, k*a + a/2]\n",
    "                p=p+4\n",
    "    \n",
    "    return pos"
   ]
  },
  {
   "cell_type": "markdown",
   "metadata": {},
   "source": [
    "## Data generation"
   ]
  },
  {
   "cell_type": "markdown",
   "metadata": {},
   "source": [
    "### Force Function"
   ]
  },
  {
   "cell_type": "markdown",
   "metadata": {},
   "source": [
    "The function force_vector_potenial loops over all possible particle pairs and it calculates if they are within a treshold range. If they are closer than r_cutoff together, we calculate the force and the potential energy caused by this interation. The Numba command @jit is used to speed up this calculation. Numba prefers simple calculations, thus simple multiplication is used as often as possible."
   ]
  },
  {
   "cell_type": "code",
   "execution_count": 6,
   "metadata": {
    "collapsed": false
   },
   "outputs": [],
   "source": [
    "@jit\n",
    "def force_vector_potential(pos_vector,N,L,pressure = False):\n",
    "    \"\"\"Given the position vector, calculate the total force on each particle and \n",
    "    total potenial energy\"\"\"\n",
    "    N = np.shape(pos_vector)[1]\n",
    "    Fx = np.zeros(N)\n",
    "    Fy = np.zeros(N)\n",
    "    Fz = np.zeros(N)\n",
    "    Pot = 0\n",
    "    Pvirial = 0\n",
    "    \n",
    "    #Looping over all particle pairs\n",
    "    for i in range(N):\n",
    "        for j in range(i):\n",
    "            dx = pos_vector[0,j] - pos_vector[0,i] \n",
    "            dx -= np.rint(dx/L)*L\n",
    "            dy = pos_vector[1,j] - pos_vector[1,i] \n",
    "            dy -= np.rint(dy/L)*L\n",
    "            dz = pos_vector[2,j] - pos_vector[2,i] \n",
    "            dz -= np.rint(dz/L)*L\n",
    "            magdr2 = dx*dx + dy*dy + dz*dz\n",
    "            \n",
    "            #If the particles are close together, calculate force\n",
    "            if (magdr2 < r_cutoff2):\n",
    "                dr2i = 1/magdr2\n",
    "                dr6i = dr2i*dr2i*dr2i\n",
    "                Fji = 4*dr6i*dr2i*(12*dr6i-6)\n",
    "\n",
    "                Pot += 4*dr6i*(dr6i-1)\n",
    "\n",
    "                Fx[i] -= Fji*dx #Force on i is minus force on j.\n",
    "                Fx[j] += Fji*dx\n",
    "                Fy[i] -= Fji*dy\n",
    "                Fy[j] += Fji*dy\n",
    "                Fz[i] -= Fji*dz \n",
    "                Fz[j] += Fji*dz\n",
    "                \n",
    "                #If we want to extract pressure\n",
    "                if pressure:\n",
    "                    Pvirial += Fji*magdr2   #- Force on i\n",
    "                    \n",
    "    return np.array([Fx,Fy,Fz]), Pot, Pvirial"
   ]
  },
  {
   "cell_type": "markdown",
   "metadata": {},
   "source": [
    "### The Simulation Function "
   ]
  },
  {
   "cell_type": "markdown",
   "metadata": {},
   "source": [
    "The simulate functions returns the final positions and velocities, given the initial positions and velocities and several parameters such as the number of particles (N), the box length (L) and the temperature (T) as input. In order for this function to work, we have global variables: tsteps (number of time steps) and $dt$, the length one timestep.\n",
    "Moreover, this function offers the possibility to choose which physical quantity you like to calculate and for how many steps you like to rescale the temperature (step_equi)."
   ]
  },
  {
   "cell_type": "code",
   "execution_count": 7,
   "metadata": {
    "collapsed": false
   },
   "outputs": [],
   "source": [
    "def simulate(x_init, v_init,N,L,T, step_equi = 500, rescale = False, energycheck \n",
    "             = False, pressure = False, heat_capacity = False, diffusion = False):\n",
    "    \"\"\"Simulate the system starting from the given inital conditions, options\n",
    "    to extract physical quantities\"\"\"\n",
    "   \n",
    "    #Initialize forces\n",
    "    Force = force_vector_potential(x_init,N,L)[0]\n",
    "    x_temp = x_init\n",
    "    v_temp = v_init\n",
    "    \n",
    "    if energycheck:    \n",
    "        print('Momentum in each direction at the start: ',calculate_momenta(v_temp))\n",
    "    \n",
    "    V = np.zeros(tsteps)        #To store potential energy \n",
    "    Pvirial = np.zeros(tsteps)  #To store part of the pressure calculation\n",
    "    K = np.zeros(tsteps)        #To store kinetic Energy\n",
    "    count = 0\n",
    "    mean_displacement = np.zeros(tsteps)   #To store mean displacement, diffusion\n",
    "    x_displ = np.zeros((3,N))\n",
    "    \n",
    "    for t in range(tsteps):\n",
    "        \n",
    "        #Update the position vector and correct for boundary\n",
    "        x_temp += v_temp*dt + Force*.5 * dt*dt\n",
    "        x_temp = x_temp%L\n",
    "        \n",
    "        #In addition we keep a list where we do not correct the position (diffusion) \n",
    "        if diffusion:\n",
    "            x_displ += v_temp*dt + Force*.5 * dt*dt\n",
    "            \n",
    "            #mean squared displacement:\n",
    "            mean_displacement[t] = np.mean(np.sum(np.multiply(x_displ, x_displ), \n",
    "                                                  axis = 0))\n",
    "        \n",
    "        #Add the old force to the velocity\n",
    "        v_temp += dt*.5 * Force\n",
    "        \n",
    "        #Calculate the new force\n",
    "        Force,V[t], Pvirial[t] = force_vector_potential(x_temp,N,L,pressure)\n",
    "        \n",
    "        #And then add the new force to the velocity\n",
    "        v_temp += dt*.5 * (Force)\n",
    "        \n",
    "        #In order to calculate The heat capacity or to check the energy \n",
    "        #conservation, we need to keep track of the kinetic energy\n",
    "        if energycheck or heat_capacity:\n",
    "            #Calculate kinetic energy\n",
    "            K[t] = calculate_kinetic(v_temp)\n",
    "            \n",
    "        #Rescale Temp. if required and number of equil. steps has not been reached\n",
    "        if  (rescale & (t < step_equi) & (t%20 == 0)):\n",
    "            v_temp=v_temp*(np.sum(v_temp*v_temp)/(3*(N-1)*T))**(-1/2)\n",
    "            \n",
    "    if energycheck:\n",
    "        plt.figure()\n",
    "        plt.plot(range(tsteps),V)\n",
    "        plt.plot(range(tsteps),K)\n",
    "        plt.plot(range(tsteps),V+K)\n",
    "        print('momentum in each direaction end: ',calculate_momenta(v_temp))\n",
    "        \n",
    "    if pressure: \n",
    "        return x_temp, v_temp, Pvirial\n",
    "    \n",
    "    if heat_capacity:\n",
    "        return x_temp, v_temp, K\n",
    "    \n",
    "    if diffusion: \n",
    "        return x_temp, v_temp, mean_displacement\n",
    "    \n",
    "    return x_temp, v_temp"
   ]
  },
  {
   "cell_type": "markdown",
   "metadata": {},
   "source": [
    "### Plotting the system"
   ]
  },
  {
   "cell_type": "code",
   "execution_count": 8,
   "metadata": {
    "collapsed": true
   },
   "outputs": [],
   "source": [
    "def plot_position(pos_vector):\n",
    "    \"\"\"Returns 3D plot of the particle positions\"\"\"\n",
    "    fig = plt.figure()\n",
    "    ax = fig.add_subplot(111, projection='3d')\n",
    "    ax.scatter(pos_vector[0,:],pos_vector[1,:],pos_vector[2,:])\n",
    "    ax.set_xlim3d([0,L])\n",
    "    ax.set_ylim3d([0,L])\n",
    "    ax.set_zlim3d([0,L])\n",
    "    \n",
    "def plot_velocity(vel_vector):\n",
    "    \"\"\"This function returns a histogram of the speed distribution\"\"\"\n",
    "    velocities = np.linalg.norm(vel_vector, axis = 0)\n",
    "    fig = plt.figure()\n",
    "    plt.hist(velocities)"
   ]
  },
  {
   "cell_type": "markdown",
   "metadata": {},
   "source": [
    "## General functions to analyze data"
   ]
  },
  {
   "cell_type": "code",
   "execution_count": 9,
   "metadata": {
    "collapsed": false
   },
   "outputs": [],
   "source": [
    "def data_blocking(datavector, l, stdvar_ = False):\n",
    "    \"\"\"This function calculates the average and standard deviation \n",
    "    of the physical input data, using data_blocking with blocks of length l\"\"\"\n",
    "    \n",
    "    #Divide the datavector in blocks\n",
    "    blocks = [datavector[i:i+l] for i in range(0, len(datavector), l)]\n",
    "    \n",
    "    #Remove the last block (with probably different length)\n",
    "    blocks = blocks[:-1] \n",
    "    \n",
    "    mean_array = [np.mean(A) for A in blocks]\n",
    "    mean_sqd = [A**2 for A in mean_array]\n",
    "    mean = np.mean(mean_array)\n",
    "    \n",
    "    std = np.sqrt(np.mean(mean_sqd) - mean**2)\n",
    "    \n",
    "    #For heat capacity, we need the variance of the <\\delta K^2>\n",
    "    delta_array = [np.var(A) for A in blocks]\n",
    "    stdvar = np.std(delta_array)\n",
    "\n",
    "    if stdvar_: \n",
    "        return mean, std, stdvar\n",
    "    \n",
    "    return mean, std"
   ]
  },
  {
   "cell_type": "code",
   "execution_count": 10,
   "metadata": {
    "collapsed": true
   },
   "outputs": [],
   "source": [
    "def data_blocking_Cv(kin_ener_vector, l, N):\n",
    "    \"\"\"This function calculates the average and standard deviation \n",
    "    of the physical input data, using data_blocking with blocks of length l\"\"\"\n",
    "    \n",
    "    #Divide the datavector in blocks\n",
    "    blocks = [kin_ener_vector[i:i+l] for i in range(0, len(kin_ener_vector), l)]\n",
    "    \n",
    "    #Remove the last block (with probably a different length than l)\n",
    "    blocks = blocks[:-1] \n",
    "    \n",
    "    #Calculate <delta K^2 > and <K> for each block\n",
    "    deltaK2_ar = [np.var(A) for A in blocks]\n",
    "    kin_ar = [np.mean(A) for A in blocks]\n",
    "    \n",
    "    #Calculate Cv using Lebowitz' formula for each block\n",
    "    Cv_array = [(-deltaK2_ar[x]/(kin_ar[x]**2) + 2/(3*N))**(-1)/N for x in \n",
    "                range(len(deltaK2_ar))]\n",
    "    \n",
    "    #Obtain average value and deviation for Cv, combining the blocks\n",
    "    mean = np.mean(Cv_array)\n",
    "    std = np.std(Cv_array)\n",
    "    \n",
    "    return mean, std"
   ]
  },
  {
   "cell_type": "markdown",
   "metadata": {
    "collapsed": true
   },
   "source": [
    "### Calculate energies and momenta"
   ]
  },
  {
   "cell_type": "code",
   "execution_count": 11,
   "metadata": {
    "collapsed": true
   },
   "outputs": [],
   "source": [
    "def calculate_kinetic(velocity_vector):\n",
    "    \"\"\"Given the velocity matrix, calculate the kinetic energy\"\"\"\n",
    "    return .5*np.sum(velocity_vector*velocity_vector)\n",
    "\n",
    "def calculate_momenta(velocity_vector):\n",
    "    \"\"\"Given the velocity matrix, calculate momentum in each direction\"\"\"\n",
    "    return np.sum(velocity_vector,axis=1)"
   ]
  },
  {
   "cell_type": "markdown",
   "metadata": {
    "collapsed": true
   },
   "source": [
    "# Extracting Physical quantities with Simulations "
   ]
  },
  {
   "cell_type": "markdown",
   "metadata": {},
   "source": [
    "## 1. Correlation Function"
   ]
  },
  {
   "cell_type": "markdown",
   "metadata": {},
   "source": [
    "Plot using formula given in report. First an array with all particle pair distances is created. Then this is converted into a histogram, which is then appropriate normalised and plotted."
   ]
  },
  {
   "cell_type": "code",
   "execution_count": 22,
   "metadata": {
    "collapsed": false
   },
   "outputs": [],
   "source": [
    "def plot_correlation_function(pos_vector,T,L,N):\n",
    "    \"\"\"Given the positions of the particles, plot the correlation function\"\"\"\n",
    "    indices = np.triu_indices(N,1)\n",
    "    dis = pos_vector[:,indices[0]] - pos_vector[:,indices[1]]\n",
    "    dis -= np.round((dis)/L)*L\n",
    "    disnorm = np.linalg.norm(dis,axis=0)\n",
    "    \n",
    "    #\n",
    "    nbins=100\n",
    "    histo=np.histogram(disnorm,bins=nbins,range=[0, L*.5])\n",
    "    g=2*L**3*histo[0]/(histo[1][1:len(histo[0])+1]**2*np.pi*2*N*(N-1)*L/nbins)\n",
    "    \n",
    "    plt.plot(histo[1][1:len(histo[0])+1],g)"
   ]
  },
  {
   "cell_type": "markdown",
   "metadata": {},
   "source": [
    "We calculate the correlation function for three different situations. The \n",
    "particles are in solid, liquid and gas phase. "
   ]
  },
  {
   "cell_type": "code",
   "execution_count": 23,
   "metadata": {
    "collapsed": false,
    "scrolled": true
   },
   "outputs": [],
   "source": [
    "Tarray = [0.5, 1, 3]\n",
    "narray = [1.2,.8, .3]\n",
    "m=6\n",
    "a =1 #only needed to set N\n",
    "m, N, L = set_num_particle(m,a)\n",
    "xfinal=np.zeros([len(Tarray),3,N])\n",
    "for i in range(len(Tarray)):\n",
    "        T=Tarray[i]\n",
    "        a =set_density(narray[i])\n",
    "        m, N, L = set_num_particle(m,a)\n",
    "        v_init = initialize_velocity(N,T)\n",
    "        x_init = initialize_position(N,a)\n",
    "        xfinal[i,:,:],v=simulate(x_init,v_init,N,L,T,rescale=True)"
   ]
  },
  {
   "cell_type": "code",
   "execution_count": 24,
   "metadata": {
    "collapsed": false
   },
   "outputs": [
    {
     "data": {
      "text/plain": [
       "(0, 3)"
      ]
     },
     "execution_count": 24,
     "metadata": {},
     "output_type": "execute_result"
    },
    {
     "name": "stderr",
     "output_type": "stream",
     "text": [
      "C:\\Users\\Bas\\Anaconda3\\lib\\site-packages\\matplotlib\\figure.py:1718: UserWarning: This figure includes Axes that are not compatible with tight_layout, so its results might be incorrect.\n",
      "  warnings.warn(\"This figure includes Axes that are not \"\n"
     ]
    },
    {
     "data": {
      "image/png": "[encoded data removed]",
      "text/plain": [
       "<matplotlib.figure.Figure at 0x20dee79c8d0>"
      ]
     },
     "metadata": {},
     "output_type": "display_data"
    }
   ],
   "source": [
    "fig = plt.figure()\n",
    "for i in range(len(Tarray)):\n",
    "    T=Tarray[i]\n",
    "    a =set_density(narray[i])\n",
    "    m, N, L = set_num_particle(m,a)\n",
    "    plot_correlation_function(xfinal[i,:,:],T,L,N)\n",
    "   \n",
    "plt.title(r'Pair correlation function $g(r)$', fontweight = 'bold')\n",
    "plt.xlabel(r'$r (\\sigma)$', fontweight = 'bold')\n",
    "plt.ylabel(r'$g$', fontweight = 'bold')\n",
    "plt.legend(['Solid', 'Liquid', 'Gas'], loc = 1)\n",
    "plt.xlim([0,3])\n",
    "#plt.savefig(\".\\img\\Results\\CorrelationFunction\\CorrelationFunction.pdf\")"
   ]
  },
  {
   "cell_type": "markdown",
   "metadata": {},
   "source": [
    "## 2. Pressure"
   ]
  },
  {
   "cell_type": "markdown",
   "metadata": {},
   "source": [
    "We are going to calculate the pressure using equation 8.19 from the book\n",
    "$$\\frac{P}{nk_bT} = 1 - \\frac{1}{3Nk_bT}\\langle\\sum_{i}\\sum_{j \\geq i}r_{ij}\\frac{\\partial U(R)}{\\partial{r_{ij}}} \\rangle_{cutoff} - \\frac{2\\pi N}{3k_bTV}\\int_{r_{cut-off}}^{\\infty}r^3\\frac{\\partial U(r)}{\\partial{r}}g(r)~\\mathrm{d}r$$\n",
    "\n",
    "We therefore calculate: $\\int_{r > r_{cutoff}}rg(r) \\frac{\\partial U}{\\partial r} d^3\\boldsymbol{r}$ analytically, by assuming $g(r) \\approx 1$ for $r > r_{cutoff}$\n",
    "\n",
    "This gives: $\\int_{r > r_{cutoff}}rg(r) \\frac{\\partial U}{\\partial r} d^3\\boldsymbol{r} \\approx 32\\pi\\frac{1}{r_{cutoff}^3}$\n",
    "\n",
    "The total contribution will therefore be: \n",
    "$\\frac{N}{6k_bTV}32\\pi\\frac{1}{r_{cutoff}^3}$\n",
    "\n",
    "Note that we perform this calculation in the canonical ensemble, where we keep\n",
    "the temperature fixed"
   ]
  },
  {
   "cell_type": "code",
   "execution_count": 12,
   "metadata": {
    "collapsed": false,
    "scrolled": true
   },
   "outputs": [
    {
     "name": "stdout",
     "output_type": "stream",
     "text": [
      "0 1 2 3 4 0 1 2 3 4 5 6 7 8 9 10 11 12 13 14 15 16 17 18 19 0 1 2 3 4 5 6 7 8 9 10 11 12 13 14 15 16 17 18 19 "
     ]
    }
   ],
   "source": [
    "#For the temperatures in T_array, we will plot pressure\n",
    "T_array = [1, 1.35, 2.74]\n",
    "\n",
    "#Choose which density values are used for each temperature value\n",
    "narray = [np.linspace(0.65, 0.9, 5), np.linspace(0.2, 0.9, 20), \n",
    "          np.linspace(0.2, 0.8,20)]\n",
    "\n",
    "#Create arrays to save beta*times pressure value and the error\n",
    "betaParray =  [np.zeros(len(narray[0])), np.zeros(len(narray[1])), \n",
    "              np.zeros(len(narray[2]))]\n",
    "error_array =  [np.zeros(len(narray[0])), np.zeros(len(narray[1])), \n",
    "              np.zeros(len(narray[2]))]\n",
    "\n",
    "#We must make sure that the systems comes to equilibrium\n",
    "step_equi = 2000\n",
    "tsteps = 4000\n",
    "countT = 0\n",
    "\n",
    "for Temp in T_array:\n",
    "    count = 0\n",
    "    \n",
    "    for n in narray[countT]:\n",
    "        a = set_density(n)\n",
    "        m, N, L = set_num_particle(5,a)\n",
    "        \n",
    "        v_init = initialize_velocity(N,Temp)\n",
    "        x_init = initialize_position(N,a)\n",
    "        \n",
    "        x, v, P_virial = simulate(x_init,v_init,N,L,Temp,step_equi = step_equi,\n",
    "                                  rescale=True, pressure = True)\n",
    "        P_virial_contr = (3 * N * kb * Temp)**(-1) * P_virial\n",
    "    \n",
    "        #Now the analytic part\n",
    "        Pvirial_analytic = N/(3 * kb * Temp * L**3 * r_cutoff**3) * 16 \\\n",
    "                          * np.pi*np.ones(tsteps)\n",
    "    \n",
    "        #After analytic part we have the pressure for all times t\n",
    "        P = N * kb * Temp * L**(-3) * (1 + P_virial_contr - Pvirial_analytic)\n",
    "    \n",
    "        #Calculate the average and the std (for the error), after\n",
    "        #equilibrium is reached\n",
    "        P_average, err = data_blocking(P[step_equi:], 80)\n",
    "        \n",
    "        print(count, end = \" \")\n",
    "        betaParray[countT][count] = 1/Temp * P_average\n",
    "        error_array[countT][count] = err/Temp\n",
    "        count += 1\n",
    "    countT += 1\n",
    "    \n",
    "#Write the essential information to data files\n",
    "np.save('.\\Data\\Pressure\\pressure_5rdtry', betaParray)\n",
    "np.save('.\\Data\\Pressure\\pressure_n_5rdtry', narray)\n",
    "np.save('.\\Data\\Pressure\\pressure_error_5rdtry', error_array)\n",
    "np.save('.\\Data\\Pressure\\pressure_param_5rdtry', T_array)"
   ]
  },
  {
   "cell_type": "markdown",
   "metadata": {},
   "source": [
    "### Plot the pressure"
   ]
  },
  {
   "cell_type": "code",
   "execution_count": 13,
   "metadata": {
    "collapsed": false
   },
   "outputs": [
    {
     "name": "stderr",
     "output_type": "stream",
     "text": [
      "C:\\Users\\TU Delf SID\\Anaconda3\\lib\\site-packages\\matplotlib\\figure.py:1718: UserWarning: This figure includes Axes that are not compatible with tight_layout, so its results might be incorrect.\n",
      "  warnings.warn(\"This figure includes Axes that are not \"\n"
     ]
    },
    {
     "data": {
      "image/png": "[encoded data removed]",
      "text/plain": [
       "<matplotlib.figure.Figure at 0x1b208d593c8>"
      ]
     },
     "metadata": {},
     "output_type": "display_data"
    }
   ],
   "source": [
    "#We now make the figure where we plot \\Beta*Pressure vs density\n",
    "#We want A larger legend fontsize for this plot\n",
    "p_store =fparams['legend.fontsize']\n",
    "fparams['legend.fontsize'] = 18\n",
    "plt.rcParams.update(fparams)\n",
    "\n",
    "#Read required data from the file\n",
    "betaParray = np.load('.\\Data\\Pressure\\pressure_5rdtry.npy')\n",
    "narray = np.load('.\\Data\\Pressure\\pressure_n_5rdtry.npy')\n",
    "error_array = np.load('.\\Data\\Pressure\\pressure_error_5rdtry.npy')\n",
    "n_clas = np.linspace(0,0.6, 1000)\n",
    "\n",
    "#Make plot with errorbars and save it\n",
    "plt.errorbar(narray[0], betaParray[0], yerr = error_array[0])\n",
    "plt.errorbar(narray[1], betaParray[1], yerr = error_array[1])\n",
    "plt.errorbar(narray[2], betaParray[2], yerr = error_array[2])\n",
    "\n",
    "#Plot classical expectation\n",
    "p_clas = [rho for rho in n_clas]\n",
    "plt.plot(n_clas, p_clas, 'k--')\n",
    "\n",
    "#plot pressure\n",
    "plt.plot()\n",
    "plt.title(r'$\\beta P$ vs. density', fontweight = 'bold')\n",
    "plt.xlabel(r'$\\rho$  $(\\frac{1}{\\sigma^3})$', fontweight = 'bold')\n",
    "plt.ylabel(r'$\\beta P$  $(\\frac{1}{\\sigma^3})$', fontweight = 'bold')\n",
    "plt.legend(['T = 1', 'T = 1.35', 'T = 2.74'], loc = 2)\n",
    "plt.ylim([-0.5,3.5])\n",
    "plt.xlim([0,0.9])\n",
    "plt.savefig(\"./Verslag/img/Results/Pressure/pressurelasttryfinal.pdf\")\n",
    "\n",
    "#reset the legend font size to original value\n",
    "fparams['legend.fontsize'] = p_store\n",
    "plt.rcParams.update(fparams)"
   ]
  },
  {
   "cell_type": "markdown",
   "metadata": {},
   "source": [
    "## 3. Heat Capacity: \n",
    "\n",
    "Lebowitz: $\\frac{\\langle \\delta K^2\\rangle}{\\langle K\\rangle^2} = \\frac{2}{3N}\\left(1 - \\frac{3N}{2C_v}\\right)$\n",
    "\n",
    "$C_v = \\left[-\\frac{\\langle \\delta K^2\\rangle}{\\langle K\\rangle^2} + \\frac{2}{3N}\\right]^{-1}$\n",
    "\n",
    "In the following block we do simulations for different densities and temperatures and calculate the specific heat, using data-blocking. Note that we calculate the error in two different ways, as described in the report."
   ]
  },
  {
   "cell_type": "code",
   "execution_count": 24,
   "metadata": {
    "collapsed": false,
    "scrolled": false
   },
   "outputs": [
    {
     "name": "stdout",
     "output_type": "stream",
     "text": [
      "1 2 3 4 5 6 7 8 1 2 3 4 5 6 7 8 1 2 3 4 5 6 7 8 "
     ]
    }
   ],
   "source": [
    "T_array = np.concatenate((np.array([0.5,1]), np.linspace(2,12,6)))\n",
    "n_array = np.array([1, 0.7, 0.2])\n",
    "T_finalarray = np.zeros((len(n_array),len(T_array)))\n",
    "Cv_array = np.zeros((len(n_array),len(T_array))) \n",
    "Cv_array_1 = np.zeros((len(n_array),len(T_array))) \n",
    "Error_array = np.zeros((len(n_array),len(T_array),2)) \n",
    "Error_array1 = np.zeros((len(n_array),len(T_array))) \n",
    "ncount = 0    \n",
    "\n",
    "\n",
    "for n in n_array:\n",
    "           \n",
    "    a = set_density(n)\n",
    "    m, N, L = set_num_particle(5,a)\n",
    "    \n",
    "    count = 0\n",
    "    for Temp in T_array:\n",
    "        v_init = initialize_velocity(N,Temp)\n",
    "        x_init = initialize_position(N,a)\n",
    "        step_eq = 2000\n",
    "        tsteps = 10500\n",
    "        \n",
    "        if Temp <= 1:\n",
    "            step_eq = 10000\n",
    "            tsteps = 20500\n",
    "        \n",
    "\n",
    "        x, v, kinetic_E = simulate(x_init,v_init,N,L,Temp, step_equi = step_eq,\n",
    "                                   rescale = True, heat_capacity = True)\n",
    "\n",
    "        T_final = np.mean(kinetic_E[(step_eq - tsteps):]*2)/(3*N) \n",
    "        DeltaK2_exp = np.var(kinetic_E[step_eq:])\n",
    "        kinetic_E_exp, eps2, eps1 = data_blocking(kinetic_E[step_eq:], 1500, \n",
    "                                                    stdvar_ = True)\n",
    "\n",
    "        eps2 = 2*kinetic_E_exp*np.sqrt(DeltaK2_exp)\n",
    "        \n",
    "        #Calculate Cv with formula, Error with our method\n",
    "        C_v = (-DeltaK2_exp/(kinetic_E_exp**2) + 2/(3*N))**(-1)/N\n",
    "        Cv_array[ncount, count] = C_v\n",
    "        T_finalarray[ncount, count] = T_final\n",
    "\n",
    "        E1 = N*C_v**2*1/(kinetic_E_exp**2)*eps1\n",
    "        E2 = N*C_v**2*DeltaK2_exp/(kinetic_E_exp**4)*eps2\n",
    "        Error1 = np.sqrt(E1**2 + E2**2)\n",
    "        Error2 = abs(E1) + abs(E2)\n",
    "        Error_array[ncount,count,:] = [Error1,Error2]\n",
    "        \n",
    "        #Calculate Cv + error using datablocking\n",
    "        Cv_array_1[ncount, count], Error_array1[ncount,count] = data_blocking_Cv(\n",
    "                                            kinetic_E[step_eq:], 1500, N)\n",
    "        count += 1\n",
    "        print (count, end = ' ')\n",
    "    \n",
    "    ncount += 1\n",
    "    \n",
    "#We save the data \n",
    "np.save('.\\Data\\HeatCapacity\\Cv_data6', Cv_array_1)\n",
    "np.save('.\\Data\\HeatCapacity\\Cv_own6', Cv_array)\n",
    "np.save('.\\Data\\HeatCapacity\\T_final6', T_finalarray)\n",
    "np.save('.\\Data\\HeatCapacity\\Errordata6', Error_array1)\n",
    "np.save('.\\Data\\HeatCapacity\\Error_own6', Error_array)\n",
    "np.save('.\\Data\\HeatCapacity\\pressure_array6', n_array)"
   ]
  },
  {
   "cell_type": "code",
   "execution_count": 27,
   "metadata": {
    "collapsed": false
   },
   "outputs": [
    {
     "name": "stderr",
     "output_type": "stream",
     "text": [
      "C:\\Users\\Bas\\Anaconda3\\lib\\site-packages\\matplotlib\\figure.py:1718: UserWarning: This figure includes Axes that are not compatible with tight_layout, so its results might be incorrect.\n",
      "  warnings.warn(\"This figure includes Axes that are not \"\n"
     ]
    },
    {
     "data": {
      "image/png": "[encoded data removed]",
      "text/plain": [
       "<matplotlib.figure.Figure at 0x1f9f778bc18>"
      ]
     },
     "metadata": {},
     "output_type": "display_data"
    }
   ],
   "source": [
    "#Load Data   \n",
    "cv_data = np.load('.\\Data\\HeatCapacity\\Cv_data6.npy')\n",
    "cv_dataown = np.load('.\\Data\\HeatCapacity\\Cv_own6.npy')\n",
    "T_final_array = np.load('.\\Data\\HeatCapacity\\T_final6.npy')\n",
    "error_data = np.load('.\\Data\\HeatCapacity\\Errordata6.npy')\n",
    "error_own = np.load('.\\Data\\HeatCapacity\\Error_own6.npy')\n",
    "\n",
    "plt.figure()\n",
    "plt.errorbar(T_final_array[0,:], cv_data[0,:], yerr = error_data[0,:])\n",
    "for i in range(2):\n",
    "    plt.errorbar(T_final_array[i+1,:-2], cv_data[i+1,:-2], yerr = error_data[i+1,:-2])\n",
    "\n",
    "plt.legend(['n = 0.8', 'n = 0.6', 'n = 0.4', 'n = 0.2'])\n",
    "#plt.ylim([1.5,3.5])\n",
    "plt.title(r'Specific Heat $c_v $', fontweight = 'bold')\n",
    "plt.xlabel(r'$T (\\frac{\\epsilon}{k_b})$', fontweight = 'bold')\n",
    "plt.ylabel(r'$c_v (\\frac{1}{k_b})$', fontweight = 'bold')\n",
    "plt.savefig(\"./Verslag/img/Results/HeatCapacity/secondtry.pdf\")"
   ]
  },
  {
   "cell_type": "markdown",
   "metadata": {
    "collapsed": false
   },
   "source": [
    "## 4. Diffusion"
   ]
  },
  {
   "cell_type": "markdown",
   "metadata": {
    "collapsed": true
   },
   "source": [
    "In order to look at diffusion, we need the mean (over all particles) squared displacement of the initial position at different times t. \n",
    "We adjust our simulate function, to keep track of this displacement. \n",
    "\n",
    "We do this simulation for four different 'phases' of the Argon. A dilute gas, a gas, a liquid and a solid. In this way, we can clearly compare the diffusion coefficiens in these different regimes"
   ]
  },
  {
   "cell_type": "code",
   "execution_count": 20,
   "metadata": {
    "collapsed": false,
    "scrolled": false
   },
   "outputs": [
    {
     "name": "stderr",
     "output_type": "stream",
     "text": [
      "C:\\Users\\TU Delf SID\\Anaconda3\\lib\\site-packages\\matplotlib\\figure.py:1718: UserWarning: This figure includes Axes that are not compatible with tight_layout, so its results might be incorrect.\n",
      "  warnings.warn(\"This figure includes Axes that are not \"\n"
     ]
    },
    {
     "data": {
      "image/png": "[encoded data removed]",
      "text/plain": [
       "<matplotlib.figure.Figure at 0x1a19f738898>"
      ]
     },
     "metadata": {},
     "output_type": "display_data"
    },
    {
     "data": {
      "image/png": "[encoded data removed]",
      "text/plain": [
       "<matplotlib.figure.Figure at 0x1a19d140908>"
      ]
     },
     "metadata": {},
     "output_type": "display_data"
    },
    {
     "data": {
      "image/png": "[encoded data removed]",
      "text/plain": [
       "<matplotlib.figure.Figure at 0x1a19f95de80>"
      ]
     },
     "metadata": {},
     "output_type": "display_data"
    },
    {
     "data": {
      "image/png": "[encoded data removed]",
      "text/plain": [
       "<matplotlib.figure.Figure at 0x1a19f8ada58>"
      ]
     },
     "metadata": {},
     "output_type": "display_data"
    }
   ],
   "source": [
    "#Set the values for which we want to calculate the diffusion coefficient\n",
    "T_array = [3, 3, 1, 0.5]\n",
    "n_array = [0.3, 0.05, 0.8, 1.2]\n",
    "states = ['gas', 'dilute gas', 'liquid', 'solid']\n",
    "total_steps = 5000\n",
    "free_time_array = np.zeros(len(T_array))\n",
    "d_array = np.zeros(len(T_array)-1)\n",
    "err_array = np.zeros(len(d_array))\n",
    "\n",
    "#We have to let the system come to equilibrium, after that we will keep track of \n",
    "#diffusion\n",
    "step_equi = 2000\n",
    "tsteps = total_steps\n",
    "times = np.linspace(0,dt*(total - step_equi),total - step_equi)\n",
    "           \n",
    "for i in range(len(T_array)):\n",
    "    #Initialization\n",
    "    n = n_array[i]\n",
    "    a = set_density(n)\n",
    "    Temp = T_array[i]\n",
    "    m,N,L = set_num_particle(5,a)\n",
    "    v_init = initialize_velocity(N,Temp)\n",
    "    x_init = initialize_position(N,a)\n",
    "\n",
    "    #Calculate the system after equilibrium\n",
    "    x_equi, v_equi = simulate(x_init,v_init,N,L,Temp, rescale=True)\n",
    "    v_mean = np.sqrt(3)*np.mean(3*abs(v_equi[0,:]**2))\n",
    "    mean_free_time = 1/(4*np.pi*n*v_mean)\n",
    "    free_time_array[i] = mean_free_time\n",
    "    \n",
    "    #Now we let the system run and 'diffuse'\n",
    "    tsteps = total - step_equi\n",
    "    x, v, x_displ = simulate(x_equi, v_equi, N,L,Temp, diffusion = True)\n",
    "    \n",
    "    #Plot the results\n",
    "    plt.figure()\n",
    "    plt.plot(times, x_displ)\n",
    "   \n",
    "    if i != 3:\n",
    "        fit, covar = np.polyfit(times,x_displ,1, cov = True)\n",
    "        lin_err = np.sqrt(covar[1,1])/6\n",
    "        d_array[i] = fit[0]\n",
    "        err_array[i] = lin_err\n",
    "        plt.plot(times, [fit[1] + fit[0]*t for t in times], 'k--')\n",
    "        plt.title(\"{:s}\".format(states[i]), fontweight = 'bold')\n",
    "        \n",
    "    plt.xlabel('$t$ ($\\sigma(m/\\epsilon)^{1/2}$)', fontweight = 'bold')\n",
    "    plt.ylabel(r'$\\langle x^2 \\rangle $ ($\\sigma^2$)', fontweight = 'bold')\n",
    "    #plt.savefig(\"./Verslag/img/Results/Diffusion/2long_t{:02.2f}_{:02.2f}.pdf\".format(n,Temp))\n",
    "    \n",
    "#Save mean_free_times and diffusion coefficients\n",
    "np.save('.\\Data\\Diffusion\\mean_free2', mean_free_time)\n",
    "np.save('.\\Data\\Diffusion\\lin_err2', err_array)"
   ]
  },
  {
   "cell_type": "code",
   "execution_count": null,
   "metadata": {
    "collapsed": true
   },
   "outputs": [],
   "source": []
  }
 ],
 "metadata": {
  "kernelspec": {
   "display_name": "Python 3",
   "language": "python",
   "name": "python3"
  },
  "language_info": {
   "codemirror_mode": {
    "name": "ipython",
    "version": 3
   },
   "file_extension": ".py",
   "mimetype": "text/x-python",
   "name": "python",
   "nbconvert_exporter": "python",
   "pygments_lexer": "ipython3",
   "version": "3.5.1"
  }
 },
 "nbformat": 4,
 "nbformat_minor": 0
}
